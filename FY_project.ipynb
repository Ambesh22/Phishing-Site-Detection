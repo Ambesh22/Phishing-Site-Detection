{
 "cells": [
  {
   "cell_type": "code",
   "execution_count": 1,
   "id": "60e4daf1",
   "metadata": {},
   "outputs": [],
   "source": [
    "import pandas as pd"
   ]
  },
  {
   "cell_type": "code",
   "execution_count": 2,
   "id": "63a8105a",
   "metadata": {},
   "outputs": [],
   "source": [
    "dataset = pd.read_csv(\"dataset.csv\")"
   ]
  },
  {
   "cell_type": "code",
   "execution_count": 3,
   "id": "b4052b58",
   "metadata": {},
   "outputs": [],
   "source": [
    "dataset = dataset.drop('index',axis=1)"
   ]
  },
  {
   "cell_type": "code",
   "execution_count": 4,
   "id": "24fb9ad1",
   "metadata": {},
   "outputs": [],
   "source": [
    "dataset.head()"
   ]
  },
  {
   "cell_type": "code",
   "execution_count": 5,
   "id": "45104e90",
   "metadata": {},
   "outputs": [],
   "source": [
    "dataset.describe()"
   ]
  },
  {
   "cell_type": "code",
   "execution_count": 6,
   "id": "7ada7100",
   "metadata": {},
   "outputs": [],
   "source": [
    "dataset.info()"
   ]
  },
  {
   "cell_type": "code",
   "execution_count": 7,
   "id": "76c73069",
   "metadata": {},
   "outputs": [],
   "source": [
    "#histogram:\n",
    "%matplotlib inline \n",
    "dataset.hist(bins=50,figsize=(20,15))"
   ]
  },
  {
   "cell_type": "code",
   "execution_count": 8,
   "id": "5afaa356",
   "metadata": {},
   "outputs": [],
   "source": [
    "#Correlation heatmap:\n",
    "import matplotlib.pyplot as plt\n",
    "import seaborn as sns\n",
    "\n",
    "plt.figure(figsize=(15,13))\n",
    "sns.heatmap(dataset.corr())\n",
    "plt.show()"
   ]
  },
  {
   "cell_type": "markdown",
   "id": "15a821b0",
   "metadata": {},
   "source": [
    "## features and labels:"
   ]
  },
  {
   "cell_type": "code",
   "execution_count": 9,
   "id": "7b637292",
   "metadata": {},
   "outputs": [],
   "source": [
    "feature = dataset.drop(\"Result\", axis=1)\n",
    "labels = dataset[\"Result\"].copy()"
   ]
  },
  {
   "cell_type": "markdown",
   "id": "83abc0d1",
   "metadata": {},
   "source": [
    "## traing and testing:"
   ]
  },
  {
   "cell_type": "code",
   "execution_count": 10,
   "id": "1e6877d8",
   "metadata": {},
   "outputs": [],
   "source": [
    "from sklearn.model_selection import train_test_split\n",
    "train_set , test_set = train_test_split(dataset , test_size=0.2 , random_state=42)\n",
    "print(f\"Rowsnin train set : {len(train_set)}\\nRows in test set : {len(test_set)}\\n\")"
   ]
  },
  {
   "cell_type": "markdown",
   "id": "01d3c088",
   "metadata": {},
   "source": [
    "## correlation matrix:"
   ]
  },
  {
   "cell_type": "code",
   "execution_count": 11,
   "id": "23451a23",
   "metadata": {},
   "outputs": [],
   "source": [
    "corr_matrix = dataset.corr()"
   ]
  },
  {
   "cell_type": "code",
   "execution_count": 12,
   "id": "e32ed4cc",
   "metadata": {},
   "outputs": [],
   "source": [
    "corr_matrix[\"Result\"].sort_values(ascending=False)"
   ]
  },
  {
   "cell_type": "code",
   "execution_count": 13,
   "id": "c760ac21",
   "metadata": {},
   "outputs": [],
   "source": [
    "from pandas.plotting import scatter_matrix\n",
    "attributes = [\"Result\" , \"SSLfinal_State\" , \"URL_of_Anchor\" , \"Shortining_Service\" , \"Domain_registeration_length\"]\n",
    "scatter_matrix(dataset[attributes], figsize = (12,8))"
   ]
  },
  {
   "cell_type": "markdown",
   "id": "cca463d1",
   "metadata": {},
   "source": [
    "## missing attributes:"
   ]
  },
  {
   "cell_type": "code",
   "execution_count": 14,
   "id": "0ff2af4a",
   "metadata": {},
   "outputs": [],
   "source": [
    "from sklearn.impute import SimpleImputer\n",
    "imputer = SimpleImputer(strategy = \"median\")\n",
    "imputer.fit(feature)"
   ]
  },
  {
   "cell_type": "code",
   "execution_count": 15,
   "id": "f73c10cf",
   "metadata": {},
   "outputs": [],
   "source": [
    "imputer.statistics_"
   ]
  },
  {
   "cell_type": "code",
   "execution_count": 16,
   "id": "ea9bcabd",
   "metadata": {},
   "outputs": [],
   "source": [
    "x = imputer.transform(feature)\n",
    "feature = pd.DataFrame(x , columns = feature.columns)\n",
    "feature.describe()"
   ]
  },
  {
   "cell_type": "markdown",
   "id": "f14aa43a",
   "metadata": {},
   "source": [
    "## splitting into x train/test and y train/test:"
   ]
  },
  {
   "cell_type": "code",
   "execution_count": 17,
   "id": "8b5040d8",
   "metadata": {},
   "outputs": [],
   "source": [
    "x_train = feature[:-2211]\n",
    "x_test = feature[8845:]\n",
    "y_train = labels[:-2211]\n",
    "y_test = labels[8845:]"
   ]
  },
  {
   "cell_type": "markdown",
   "id": "706fa49f",
   "metadata": {},
   "source": [
    "## model selection:"
   ]
  },
  {
   "cell_type": "code",
   "execution_count": 18,
   "id": "642e7e20",
   "metadata": {},
   "outputs": [],
   "source": [
    "from sklearn.linear_model import LogisticRegression\n",
    "from sklearn.tree import DecisionTreeClassifier\n",
    "# model = DecisionTreeClassifier()\n",
    "model = LogisticRegression()\n",
    "model.fit(x_train , y_train)"
   ]
  },
  {
   "cell_type": "code",
   "execution_count": 19,
   "id": "804b5591",
   "metadata": {},
   "outputs": [],
   "source": [
    "a = model.predict(x_test)"
   ]
  },
  {
   "cell_type": "code",
   "execution_count": 20,
   "id": "63a49ca2",
   "metadata": {},
   "outputs": [],
   "source": [
    "a"
   ]
  },
  {
   "cell_type": "code",
   "execution_count": 21,
   "id": "b6d5c009",
   "metadata": {},
   "outputs": [],
   "source": [
    "list(y_test)"
   ]
  },
  {
   "cell_type": "markdown",
   "id": "096c9d18",
   "metadata": {},
   "source": [
    "## Cross validation:"
   ]
  },
  {
   "cell_type": "code",
   "execution_count": 22,
   "id": "0c35d89b",
   "metadata": {},
   "outputs": [],
   "source": [
    "# import numpy as np\n",
    "# from sklearn.model_selection import cross_val_score\n",
    "# print(np.mean(cross_val_score(model , x_train , y_train , cv=5))) # it will return you the mean of our x_train and y_train.\n",
    "\n",
    "from sklearn.model_selection import cross_val_predict\n",
    "y_pred = cross_val_predict(model , x_train , y_train , cv=5 ) # cannot use while working with decisiontree method=\"decision_function\") "
   ]
  },
  {
   "cell_type": "code",
   "execution_count": 23,
   "id": "a48b1c57",
   "metadata": {},
   "outputs": [],
   "source": [
    "y_pred"
   ]
  },
  {
   "cell_type": "markdown",
   "id": "56f905d2",
   "metadata": {},
   "source": [
    "## calculating confusion matrix:"
   ]
  },
  {
   "cell_type": "code",
   "execution_count": 24,
   "id": "722ed8f3",
   "metadata": {},
   "outputs": [],
   "source": [
    "from sklearn.metrics import confusion_matrix\n",
    "confusion_matrix(y_train , y_pred)"
   ]
  },
  {
   "cell_type": "markdown",
   "id": "3f404297",
   "metadata": {},
   "source": [
    "## precision and recall:"
   ]
  },
  {
   "cell_type": "code",
   "execution_count": 25,
   "id": "ab6140a9",
   "metadata": {},
   "outputs": [],
   "source": [
    "from sklearn.metrics import precision_score , recall_score\n",
    "precision_score(y_train , y_pred)"
   ]
  },
  {
   "cell_type": "code",
   "execution_count": 26,
   "id": "5df8913d",
   "metadata": {},
   "outputs": [],
   "source": [
    "recall_score(y_train , y_pred)"
   ]
  },
  {
   "cell_type": "markdown",
   "id": "263fc988",
   "metadata": {},
   "source": [
    "## F1 - score:"
   ]
  },
  {
   "cell_type": "code",
   "execution_count": 27,
   "id": "5b09d2de",
   "metadata": {},
   "outputs": [],
   "source": [
    "from sklearn.metrics import f1_score\n",
    "f1_score(y_train , y_pred)"
   ]
  },
  {
   "cell_type": "markdown",
   "id": "75c7c276",
   "metadata": {},
   "source": [
    "## precision - recall curve:"
   ]
  },
  {
   "cell_type": "code",
   "execution_count": 28,
   "id": "27533076",
   "metadata": {},
   "outputs": [],
   "source": [
    "from sklearn.metrics import precision_recall_curve\n",
    "precision , recall , threshold = precision_recall_curve(y_train , y_pred)"
   ]
  },
  {
   "cell_type": "code",
   "execution_count": 29,
   "id": "551a77f5",
   "metadata": {},
   "outputs": [],
   "source": [
    "precision"
   ]
  },
  {
   "cell_type": "code",
   "execution_count": 30,
   "id": "831239ed",
   "metadata": {},
   "outputs": [],
   "source": [
    "recall"
   ]
  },
  {
   "cell_type": "code",
   "execution_count": 31,
   "id": "a524e7bb",
   "metadata": {},
   "outputs": [],
   "source": [
    "threshold"
   ]
  },
  {
   "cell_type": "code",
   "execution_count": 32,
   "id": "7be53c6a",
   "metadata": {},
   "outputs": [],
   "source": [
    "import matplotlib.pyplot as plt\n",
    "plt.plot(threshold , precision[:-1] , \"b--\", label=\"Precision\")\n",
    "plt.plot(threshold , recall[:-1] , \"g-\", label=\"Recall\")\n",
    "plt.xlabel(\"threshold\")\n",
    "plt.legend(loc=\"upper right\")\n",
    "plt.ylim([0,1])\n",
    "plt.show()"
   ]
  },
  {
   "cell_type": "markdown",
   "id": "37797d5c",
   "metadata": {},
   "source": [
    "## Saving our model:"
   ]
  },
  {
   "cell_type": "code",
   "execution_count": 33,
   "id": "4ac1d6eb",
   "metadata": {},
   "outputs": [],
   "source": [
    "from joblib import dump, load\n",
    "dump(model , 'FY_proect.joblib') "
   ]
  }
 ],
 "metadata": {
  "kernelspec": {
   "display_name": "Python 3 (ipykernel)",
   "language": "python",
   "name": "python3"
  },
  "language_info": {
   "codemirror_mode": {
    "name": "ipython",
    "version": 3
   },
   "file_extension": ".py",
   "mimetype": "text/x-python",
   "name": "python",
   "nbconvert_exporter": "python",
   "pygments_lexer": "ipython3",
   "version": "3.11.4"
  }
 },
 "nbformat": 4,
 "nbformat_minor": 5
}
